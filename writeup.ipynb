{
 "cells": [
  {
   "cell_type": "markdown",
   "metadata": {},
   "source": [
    "# <p align=\"center\" style=\"color:rgb(55, 113, 197);\">[16-825: Learning for 3D Vision](https://learning3d.github.io/)</p>\n",
    "### <p align=\"center\" style=\"color:rgb(0, 0, 0);\">Rendering Basics with PyTorch3D</p>\n",
    "<p align=\"center\" style=\"color:rgb(55, 113, 197);\">\n",
    "    Shreyas Jha &nbsp;&nbsp;&nbsp;&nbsp;&nbsp;&nbsp;&nbsp;&nbsp;\n",
    "    <a href=\"https://github.com/Shreyas120/l3d_assignment1\">Code</a> \n",
    "</p>\n",
    "\n",
    "<!-- Color theme\n",
    "    Dark color:rgb(42, 88, 153)\n",
    "    Medium (55, 113, 197)\n",
    "    Light and bright color:rgb(68, 129, 211)\n",
    " -->\n",
    "\n",
    "***"
   ]
  },
  {
   "cell_type": "markdown",
   "metadata": {},
   "source": [
    "## <p align=\"center\" style=\"color:rgb(55, 113, 197);\">1.&nbsp;Praticing with cameras</p>\n",
    "\n",
    "### <p align=\"center\" style=\"color:rgb(55, 113, 197);\">1.1.&nbsp;360-degree Renders </p>\n",
    "#### <p align=\"center\" style=\"color:rgb(42, 88, 153);\">![Rotating Cow GIF](./data/shreyasj/1.1/cow360.gif)</p>\n",
    "\n",
    "### <p align=\"center\" style=\"color:rgb(55, 113, 197);\">1.2.&nbsp;Re-creating the Dolly Zoom </p>\n",
    "#### <p align=\"center\" style=\"color:rgb(42, 88, 153);\">![Dolly Zoom GIF](./data/shreyasj/1.2/dolly_zoom.gif)</p>\n",
    "---"
   ]
  },
  {
   "cell_type": "markdown",
   "metadata": {},
   "source": [
    "## <p align=\"center\" style=\"color:rgb(55, 113, 197);\">2.&nbsp;Practicing with Meshes</p>\n",
    "\n",
    "### <p align=\"center\" style=\"color:rgb(55, 113, 197);\">2.1.&nbsp;Constructing a Tetrahedron </p>\n",
    "<!-- #### <p align=\"center\" style=\"color:rgb(42, 88, 153);\">![Rotating Cow GIF](./data/shreyasj/1.1/cow360.gif)</p> -->\n",
    "\n",
    "### <p align=\"center\" style=\"color:rgb(55, 113, 197);\">2.2.&nbsp;Constructing a Cube </p>\n",
    "<!-- #### <p align=\"center\" style=\"color:rgb(42, 88, 153);\">![Rotating Cow GIF](./data/shreyasj/1.1/cow360.gif)</p> -->\n",
    "---"
   ]
  },
  {
   "cell_type": "markdown",
   "metadata": {},
   "source": [
    "## <p align=\"center\" style=\"color:rgb(55, 113, 197);\">3.&nbsp;Re-texturing a mesh</p>\n",
    "\n",
    "<!-- #### <p align=\"center\" style=\"color:rgb(42, 88, 153);\">![Rotating Cow GIF](./data/shreyasj/1.1/cow360.gif)</p> -->\n",
    "\n",
    "---"
   ]
  },
  {
   "cell_type": "markdown",
   "metadata": {},
   "source": [
    "## <p align=\"center\" style=\"color:rgb(55, 113, 197);\">4.&nbsp;Camera Transformations</p>\n",
    "\n",
    "<!-- #### <p align=\"center\" style=\"color:rgb(42, 88, 153);\">![Rotating Cow GIF](./data/shreyasj/1.1/cow360.gif)</p> -->\n",
    "\n",
    "---"
   ]
  },
  {
   "cell_type": "markdown",
   "metadata": {},
   "source": [
    "## <p align=\"center\" style=\"color:rgb(55, 113, 197);\">5.&nbsp;Rendering Generic 3D Representations</p>\n",
    "\n",
    "### <p align=\"center\" style=\"color:rgb(55, 113, 197);\">5.1.&nbsp; Rendering Point Clouds from RGB-D Images </p>\n",
    "<!-- #### <p align=\"center\" style=\"color:rgb(42, 88, 153);\">![Rotating Cow GIF](./data/shreyasj/1.1/cow360.gif)</p> -->\n",
    "\n",
    "### <p align=\"center\" style=\"color:rgb(55, 113, 197);\">5.2.&nbsp;Parametric Functions </p>\n",
    "<!-- #### <p align=\"center\" style=\"color:rgb(42, 88, 153);\">![Rotating Cow GIF](./data/shreyasj/1.1/cow360.gif)</p> -->\n",
    "\n",
    "### <p align=\"center\" style=\"color:rgb(55, 113, 197);\">5.3.&nbsp;Implicit Surfaces </p>\n",
    "<!-- #### <p align=\"center\" style=\"color:rgb(42, 88, 153);\">![Rotating Cow GIF](./data/shreyasj/1.1/cow360.gif)</p> -->\n",
    "\n",
    "---"
   ]
  },
  {
   "cell_type": "markdown",
   "metadata": {},
   "source": [
    "## <p align=\"center\" style=\"color:rgb(55, 113, 197);\">6.&nbsp;Something fun</p>\n",
    "\n",
    "<!-- #### <p align=\"center\" style=\"color:rgb(42, 88, 153);\">![Rotating Cow GIF](./data/shreyasj/1.1/cow360.gif)</p> -->\n",
    "\n",
    "---"
   ]
  },
  {
   "cell_type": "markdown",
   "metadata": {},
   "source": [
    "---\n",
    "## <p align=\"center\" style=\"color:rgb(55, 113, 197);\">Late days used</p>\n",
    "\n",
    "## <p align=\"center\" style=\"color:rgb(42, 88, 153);\">![Zero](./data/shreyasj/late_day_imgs/zero.png)</p>\n",
    "<p align=\"center\" style=\"color:rgb(55, 113, 197);\">\n",
    "    <a href=\"https://github.com/learning3d/learning3d.github.io/tree/main/spring23/data/late_days\">Image Source</a> \n",
    "</p>\n"
   ]
  }
 ],
 "metadata": {
  "kernelspec": {
   "display_name": "Python 3",
   "language": "python",
   "name": "python3"
  },
  "language_info": {
   "name": "python",
   "version": "3.8.10"
  }
 },
 "nbformat": 4,
 "nbformat_minor": 2
}
